{
 "cells": [
  {
   "cell_type": "code",
   "execution_count": 1,
   "metadata": {},
   "outputs": [],
   "source": [
    "import requests,json,time\n",
    "\n",
    "server='http://10.22.20.59:8080'\n",
    "\n",
    "def check_wall():\n",
    "    cm = '/remote/sonar'\n",
    "    return json.loads(requests.get(server+cm).text)\n",
    "\n",
    "def run():\n",
    "    cm = '/remote/play'\n",
    "    return json.loads(requests.get(server+cm).text)\n",
    "\n",
    "def stop():\n",
    "    cm = '/remote/pause'\n",
    "    return json.loads(requests.get(server + cm).text)\n",
    "\n",
    "def turn_left():\n",
    "    pass\n",
    "\n",
    "def turn_right():\n",
    "    pass\n",
    "\n",
    "def back():\n",
    "    cm='/remote/back'\n",
    "    return json.loads(requests.get(server + cm).text)\n",
    "\n",
    "def round_left():\n",
    "    cm='/remote/left'\n",
    "    return json.loads(requests.get(server + cm).text)\n",
    "\n",
    "def round_right():\n",
    "    cm='/remote/right'\n",
    "    return json.loads(requests.get(server + cm).text)\n",
    "\n",
    "def get_color():\n",
    "    cm='/remote/color'\n",
    "    return json.loads(requests.get(server + cm).text)\n",
    "\n",
    "def compass():\n",
    "    cm='/remote/compass'\n",
    "    return json.loads(requests.get(server + cm).text)\n",
    "\n",
    "def reset_compass():\n",
    "    cm='/remote/reset_compass'\n",
    "    return json.loads(requests.get(server + cm).text)\n",
    "\n",
    "def change_speed(speed):\n",
    "    cm='/remote/change_spd'\n",
    "    return json.loads(requests.post(server + cm,json.dumps({\"speed\":speed})).text)\n",
    "\n",
    "def chang_speed_left(speed):\n",
    "    cm='/remote/change_spd_left'\n",
    "    return json.loads(requests.post(server + cm,json.dumps({\"speed\":speed})).text)\n",
    "\n",
    "def chang_speed_right(speed):\n",
    "    cm='/remote/change_spd_right'\n",
    "    return json.loads(requests.post(server + cm,json.dumps({\"speed\":speed})).text)"
   ]
  },
  {
   "cell_type": "code",
   "execution_count": 12,
   "metadata": {},
   "outputs": [
    {
     "data": {
      "text/plain": [
       "{'code': 200, 'message': 'moving right'}"
      ]
     },
     "execution_count": 12,
     "metadata": {},
     "output_type": "execute_result"
    }
   ],
   "source": [
    "round_right()"
   ]
  },
  {
   "cell_type": "code",
   "execution_count": 13,
   "metadata": {},
   "outputs": [
    {
     "data": {
      "text/plain": [
       "{'code': 200, 'message': 'stop'}"
      ]
     },
     "execution_count": 13,
     "metadata": {},
     "output_type": "execute_result"
    }
   ],
   "source": [
    "stop()"
   ]
  },
  {
   "cell_type": "code",
   "execution_count": 14,
   "metadata": {},
   "outputs": [
    {
     "data": {
      "text/plain": [
       "{'degree': 177.0, 'minute': 34.0}"
      ]
     },
     "execution_count": 14,
     "metadata": {},
     "output_type": "execute_result"
    }
   ],
   "source": [
    "reset_compass()\n",
    "compass()"
   ]
  },
  {
   "cell_type": "code",
   "execution_count": null,
   "metadata": {},
   "outputs": [],
   "source": []
  }
 ],
 "metadata": {
  "kernelspec": {
   "display_name": "Python 3",
   "language": "python",
   "name": "python3"
  },
  "language_info": {
   "codemirror_mode": {
    "name": "ipython",
    "version": 3
   },
   "file_extension": ".py",
   "mimetype": "text/x-python",
   "name": "python",
   "nbconvert_exporter": "python",
   "pygments_lexer": "ipython3",
   "version": "3.5.5"
  }
 },
 "nbformat": 4,
 "nbformat_minor": 2
}
