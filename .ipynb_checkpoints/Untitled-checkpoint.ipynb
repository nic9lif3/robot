{
 "cells": [
  {
   "cell_type": "code",
   "execution_count": 22,
   "metadata": {},
   "outputs": [],
   "source": [
    "import requests,json,time\n",
    "\n",
    "server='http://10.22.20.59:8080'\n",
    "\n",
    "def check_wall():\n",
    "    cm = '/remote/sonar'\n",
    "    return json.loads(requests.get(server+cm).text)\n",
    "\n",
    "def run():\n",
    "    cm = '/remote/play'\n",
    "    return json.loads(requests.get(server+cm).text)\n",
    "\n",
    "def stop():\n",
    "    cm = '/remote/pause'\n",
    "    return json.loads(requests.get(server + cm).text)\n",
    "\n",
    "def turn_left():\n",
    "    pass\n",
    "\n",
    "def turn_right_degree(d):\n",
    "    round_left()\n",
    "    reset_compass()\n",
    "    degree=compass()\n",
    "    rotate=0\n",
    "    previous_degree=degree['degree']+degree['minute']/60\n",
    "    current_degree=previous_degree\n",
    "    \n",
    "    while(rotate<=d):\n",
    "        print(rotate,current_degree)\n",
    "\n",
    "        \n",
    "        degree=compass()\n",
    "        current_degree=degree['degree']+degree['minute']/60\n",
    "        if current_degree<previous_degree-200:\n",
    "            rotate+=360\n",
    "            \n",
    "        rotate+=current_degree-previous_degree\n",
    "       \n",
    "        previous_degree=current_degree\n",
    "    stop()\n",
    "    print(rotate,current_degree)   \n",
    "    \n",
    "\n",
    "def back():\n",
    "    cm='/remote/back'\n",
    "    return json.loads(requests.get(server + cm).text)\n",
    "\n",
    "def round_left():\n",
    "    cm='/remote/left'\n",
    "    return json.loads(requests.get(server + cm).text)\n",
    "\n",
    "def round_right():\n",
    "    cm='/remote/right'\n",
    "    return json.loads(requests.get(server + cm).text)\n",
    "\n",
    "def get_color():\n",
    "    cm='/remote/color'\n",
    "    return json.loads(requests.get(server + cm).text)\n",
    "\n",
    "def compass():\n",
    "    cm='/remote/compass'\n",
    "    return json.loads(requests.get(server + cm).text)\n",
    "\n",
    "def reset_compass():\n",
    "    cm='/remote/reset_compass'\n",
    "    return json.loads(requests.get(server + cm).text)\n",
    "\n",
    "def change_speed(speed):\n",
    "    cm='/remote/change_spd'\n",
    "    return json.loads(requests.post(server + cm,json.dumps({\"speed\":speed})).text)\n",
    "\n",
    "def chang_speed_left(speed):\n",
    "    cm='/remote/change_spd_left'\n",
    "    return json.loads(requests.post(server + cm,json.dumps({\"speed\":speed})).text)\n",
    "\n",
    "def chang_speed_right(speed):\n",
    "    cm='/remote/change_spd_right'\n",
    "    return json.loads(requests.post(server + cm,json.dumps({\"speed\":speed})).text)\n"
   ]
  },
  {
   "cell_type": "code",
   "execution_count": 23,
   "metadata": {},
   "outputs": [
    {
     "data": {
      "text/plain": [
       "{'degree': 246.0, 'minute': 12.0}"
      ]
     },
     "execution_count": 23,
     "metadata": {},
     "output_type": "execute_result"
    }
   ],
   "source": [
    "reset_compass()\n",
    "compass()"
   ]
  },
  {
   "cell_type": "code",
   "execution_count": 31,
   "metadata": {
    "scrolled": false
   },
   "outputs": [
    {
     "name": "stdout",
     "output_type": "stream",
     "text": [
      "0 221.71666666666667\n",
      "15.73333333333332 237.45\n",
      "43.45000000000002 265.1666666666667\n",
      "64.65 286.3666666666667\n"
     ]
    }
   ],
   "source": [
    "# while(True):\n",
    "turn_right_degree(50)\n",
    "#     time.sleep(1)"
   ]
  },
  {
   "cell_type": "code",
   "execution_count": 25,
   "metadata": {},
   "outputs": [
    {
     "data": {
      "text/plain": [
       "{'code': 200, 'message': 'stop'}"
      ]
     },
     "execution_count": 25,
     "metadata": {},
     "output_type": "execute_result"
    }
   ],
   "source": [
    "stop()"
   ]
  },
  {
   "cell_type": "code",
   "execution_count": 147,
   "metadata": {},
   "outputs": [
    {
     "data": {
      "text/plain": [
       "{'code': 200, 'message': 'moving right'}"
      ]
     },
     "execution_count": 147,
     "metadata": {},
     "output_type": "execute_result"
    }
   ],
   "source": [
    "round_right()"
   ]
  },
  {
   "cell_type": "code",
   "execution_count": 195,
   "metadata": {},
   "outputs": [
    {
     "data": {
      "text/plain": [
       "{'code': 200, 'message': 'stop'}"
      ]
     },
     "execution_count": 195,
     "metadata": {},
     "output_type": "execute_result"
    }
   ],
   "source": [
    "round_right()\n",
    "c=time.clock()\n",
    "while(time.clock()-c<=1.5):\n",
    "    pass\n",
    "stop()"
   ]
  },
  {
   "cell_type": "code",
   "execution_count": 205,
   "metadata": {},
   "outputs": [
    {
     "name": "stdout",
     "output_type": "stream",
     "text": [
      "{'degree': 321.0, 'minute': 8.0}\n"
     ]
    }
   ],
   "source": [
    "print( compass())"
   ]
  },
  {
   "cell_type": "code",
   "execution_count": null,
   "metadata": {},
   "outputs": [],
   "source": []
  }
 ],
 "metadata": {
  "kernelspec": {
   "display_name": "Python 3",
   "language": "python",
   "name": "python3"
  },
  "language_info": {
   "codemirror_mode": {
    "name": "ipython",
    "version": 3
   },
   "file_extension": ".py",
   "mimetype": "text/x-python",
   "name": "python",
   "nbconvert_exporter": "python",
   "pygments_lexer": "ipython3",
   "version": "3.5.5"
  }
 },
 "nbformat": 4,
 "nbformat_minor": 2
}
