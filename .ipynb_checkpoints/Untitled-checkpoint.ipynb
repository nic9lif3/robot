{
 "cells": [
  {
   "cell_type": "code",
   "execution_count": 133,
   "metadata": {},
   "outputs": [],
   "source": [
    "import requests,json,time\n",
    "N=250\n",
    "W=360\n",
    "E=160\n",
    "S=90\n",
    "server='http://10.22.20.59:8080'\n",
    "\n",
    "def go_forward():\n",
    "    \n",
    "def check_wall():\n",
    "    cm = '/remote/sonar'\n",
    "    return json.loads(requests.get(server+cm).text)\n",
    "def check_color():\n",
    "    cm='/remote/color'\n",
    "    return json.loads(requests.get(server+cm).text)\n",
    "\n",
    "def run():\n",
    "    cm = '/remote/play'\n",
    "    return json.loads(requests.get(server+cm).text)\n",
    "\n",
    "def stop():\n",
    "    cm = '/remote/pause'\n",
    "    return json.loads(requests.get(server + cm).text)\n",
    "\n",
    "def turn_left():\n",
    "    pass\n",
    "\n",
    "def turn_left_degree(d):\n",
    "    chang_speed_left(30)\n",
    "    chang_speed_right(30)\n",
    "    reset_compass()\n",
    "    degree=compass()\n",
    "    rotate=0\n",
    "    previous_degree=degree['degree']+degree['minute']/60\n",
    "    current_degree=previous_degree\n",
    "    \n",
    "    while(rotate<=d+2):\n",
    "        round_left()\n",
    "        time.sleep(0.01)\n",
    "        stop()\n",
    "        print(rotate,current_degree)        \n",
    "        degree=compass()\n",
    "        current_degree=degree['degree']+degree['minute']/60\n",
    "        if current_degree<previous_degree-200:\n",
    "            rotate+=360            \n",
    "        rotate+=current_degree-previous_degree\n",
    "        previous_degree=current_degree\n",
    "        \n",
    "    print(rotate,current_degree)   \n",
    "    chang_speed_left(30)\n",
    "    chang_speed_right(30)\n",
    "\n",
    "def back():\n",
    "    cm='/remote/back'\n",
    "    return json.loads(requests.get(server + cm).text)\n",
    "\n",
    "def round_left():\n",
    "    cm='/remote/left'\n",
    "    return json.loads(requests.get(server + cm).text)\n",
    "\n",
    "def round_right():\n",
    "    cm='/remote/right'\n",
    "    return json.loads(requests.get(server + cm).text)\n",
    "\n",
    "def get_color():\n",
    "    cm='/remote/color'\n",
    "    return json.loads(requests.get(server + cm).text)\n",
    "\n",
    "def compass():\n",
    "    cm='/remote/compass'\n",
    "    return json.loads(requests.get(server + cm).text)\n",
    "\n",
    "def reset_compass():\n",
    "    cm='/remote/reset_compass'\n",
    "    return json.loads(requests.get(server + cm).text)\n",
    "\n",
    "def change_speed(speed):\n",
    "    cm='/remote/change_spd'\n",
    "    return json.loads(requests.post(server + cm,json.dumps({\"speed\":speed}),headers={'Content-type': 'application/json'}).text)\n",
    "\n",
    "def chang_speed_left(speed):\n",
    "    cm='/remote/change_spd_left'\n",
    "    requests.post(server + cm,json.dumps({\"speed\":speed})).text\n",
    "    return json.loads(requests.post(server + cm,json.dumps({\"speed\":speed}),headers={'Content-type': 'application/json'}).text)\n",
    "\n",
    "def chang_speed_right(speed):\n",
    "    cm='/remote/change_spd_right'\n",
    "    return json.loads(requests.post(server + cm,json.dumps({\"speed\":speed}),headers={'Content-type': 'application/json'}).text)\n"
   ]
  },
  {
   "cell_type": "code",
   "execution_count": 177,
   "metadata": {},
   "outputs": [
    {
     "data": {
      "text/plain": [
       "{'degree': 357.0, 'minute': 43.0}"
      ]
     },
     "execution_count": 177,
     "metadata": {},
     "output_type": "execute_result"
    }
   ],
   "source": [
    "reset_compass()\n",
    "compass()"
   ]
  },
  {
   "cell_type": "code",
   "execution_count": 171,
   "metadata": {},
   "outputs": [
    {
     "data": {
      "text/plain": [
       "{'code': 200, 'message': 'stop'}"
      ]
     },
     "execution_count": 171,
     "metadata": {},
     "output_type": "execute_result"
    }
   ],
   "source": [
    "stop()\n"
   ]
  },
  {
   "cell_type": "code",
   "execution_count": 180,
   "metadata": {},
   "outputs": [
    {
     "name": "stdout",
     "output_type": "stream",
     "text": [
      "14\n",
      "1.498408113727237\n"
     ]
    }
   ],
   "source": [
    "t=time.clock()\n",
    "run()\n",
    "while(check_wall()['distance']>12):\n",
    "    pass\n",
    "print(check_wall()['distance'])\n",
    "stop()\n",
    "print(time.clock()-t)"
   ]
  },
  {
   "cell_type": "code",
   "execution_count": 127,
   "metadata": {},
   "outputs": [
    {
     "data": {
      "text/plain": [
       "{'code': 200, 'message': 'backward'}"
      ]
     },
     "execution_count": 127,
     "metadata": {},
     "output_type": "execute_result"
    }
   ],
   "source": [
    "back()"
   ]
  },
  {
   "cell_type": "code",
   "execution_count": null,
   "metadata": {},
   "outputs": [],
   "source": []
  }
 ],
 "metadata": {
  "kernelspec": {
   "display_name": "Python 3",
   "language": "python",
   "name": "python3"
  },
  "language_info": {
   "codemirror_mode": {
    "name": "ipython",
    "version": 3
   },
   "file_extension": ".py",
   "mimetype": "text/x-python",
   "name": "python",
   "nbconvert_exporter": "python",
   "pygments_lexer": "ipython3",
   "version": "3.5.5"
  }
 },
 "nbformat": 4,
 "nbformat_minor": 2
}
